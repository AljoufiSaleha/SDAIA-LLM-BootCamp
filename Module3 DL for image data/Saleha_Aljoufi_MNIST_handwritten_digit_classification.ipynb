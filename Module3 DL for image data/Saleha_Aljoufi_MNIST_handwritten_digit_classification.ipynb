{
  "cells": [
    {
      "cell_type": "markdown",
      "metadata": {
        "id": "sxquFBDorNn2"
      },
      "source": [
        "# Handwritten Digit Classification\n",
        "\n",
        "\n",
        "For this Hands-on, we will use the popular scikit-learn library to build a basic classifier. The MNIST dataset contains images of handwritten digits, and the task is to classify each image into its corresponding digit (0 to 9)."
      ]
    },
    {
      "cell_type": "markdown",
      "metadata": {
        "id": "LFjb1WbUtzcT"
      },
      "source": [
        "## Import Libraries"
      ]
    },
    {
      "cell_type": "code",
      "execution_count": 1,
      "metadata": {
        "id": "vZuJJeZBt1NX"
      },
      "outputs": [],
      "source": [
        "# Import required libraries\n",
        "import numpy as np\n",
        "import matplotlib.pyplot as plt\n",
        "from keras.datasets import mnist\n",
        "from keras.models import Sequential\n",
        "from keras.layers import Conv2D, MaxPooling2D, Flatten, Dense\n",
        "from keras.utils import to_categorical\n",
        "from sklearn.model_selection import train_test_split"
      ]
    },
    {
      "cell_type": "markdown",
      "metadata": {
        "id": "izR8JS-irUfe"
      },
      "source": [
        "## Load the Dataset"
      ]
    },
    {
      "cell_type": "markdown",
      "source": [
        "**Question 1:** Load the train and test subsets of the mnist dataset from Keras"
      ],
      "metadata": {
        "id": "ksDVyrnEaqY9"
      }
    },
    {
      "cell_type": "code",
      "execution_count": 2,
      "metadata": {
        "id": "tPZGpMact7Hh",
        "colab": {
          "base_uri": "https://localhost:8080/"
        },
        "outputId": "c9deeb31-d2bf-4c38-a704-ebd0a79bb961"
      },
      "outputs": [
        {
          "output_type": "stream",
          "name": "stdout",
          "text": [
            "Downloading data from https://storage.googleapis.com/tensorflow/tf-keras-datasets/mnist.npz\n",
            "11490434/11490434 [==============================] - 0s 0us/step\n"
          ]
        }
      ],
      "source": [
        "import tensorflow as tf\n",
        "\n",
        "# Load the MNIST dataset\n",
        "(X_train, y_train), (X_test, y_test) = mnist.load_data()\n"
      ]
    },
    {
      "cell_type": "markdown",
      "metadata": {
        "id": "1hRAaUS5uBa5"
      },
      "source": [
        "## Data Pre-Processing"
      ]
    },
    {
      "cell_type": "markdown",
      "source": [
        "**Question 2:**  \n",
        "\n",
        "*   Adjust the input shape to match the one the model is expecting\n",
        "*   Normalize the values of the pixels\n",
        "*   Turn labels into categories using the to_categorical function"
      ],
      "metadata": {
        "id": "pk-ekR4Wa1AD"
      }
    },
    {
      "cell_type": "code",
      "source": [
        "X_train.shape # num of samples, width, and height"
      ],
      "metadata": {
        "colab": {
          "base_uri": "https://localhost:8080/"
        },
        "id": "rKh4w4jXYJSX",
        "outputId": "9b73fb94-fe28-49cb-8976-10a89bc6f6de"
      },
      "execution_count": 3,
      "outputs": [
        {
          "output_type": "execute_result",
          "data": {
            "text/plain": [
              "(60000, 28, 28)"
            ]
          },
          "metadata": {},
          "execution_count": 3
        }
      ]
    },
    {
      "cell_type": "code",
      "execution_count": 4,
      "metadata": {
        "id": "6PlFzdt2uAOc"
      },
      "outputs": [],
      "source": [
        "# Preprocess the data\n",
        "\n",
        "# Reshape the images\n",
        "X_train = X_train.reshape(X_train.shape[0], X_train[0].shape[0], X_train[0].shape[1], 1) # num of samples, width, hieght, and channel\n",
        "X_test = X_test.reshape(X_test.shape[0], X_test[0].shape[0], X_test[0].shape[1], 1)\n",
        "\n",
        "# Normalize the values of the pixels\n",
        "X_train = X_train/255.0\n",
        "X_test = X_test/255.0\n",
        "\n",
        "#Turn labels into categories\n",
        "y_train = to_categorical(y_train, 10)\n",
        "y_test = to_categorical(y_test, 10)\n"
      ]
    },
    {
      "cell_type": "markdown",
      "metadata": {
        "id": "C2P2NYGAu3uf"
      },
      "source": [
        "## Build and train a CNN"
      ]
    },
    {
      "cell_type": "markdown",
      "source": [
        "**Question 3:** Create a Convolutional neural Network of your choice and be carefyl while you select the following:\n",
        "\n",
        "\n",
        "*   input shape\n",
        "*   activation function at the output layer\n",
        "*   number of output neurons\n",
        "\n"
      ],
      "metadata": {
        "id": "gBh_E3p8yQJd"
      }
    },
    {
      "cell_type": "code",
      "execution_count": 5,
      "metadata": {
        "id": "cSKyObX3u6b5"
      },
      "outputs": [],
      "source": [
        "\n",
        "import matplotlib.pyplot as plt\n",
        "\n",
        "from keras.models import Sequential\n",
        "from keras.layers import Conv2D, MaxPooling2D, Flatten, Dense\n",
        "\n",
        "\n",
        "\n",
        "# Build the CNN model\n",
        "model = Sequential()\n",
        "\n",
        "model.add(Conv2D(32, (3, 3), input_shape=(28, 28, 1), activation='relu'))\n",
        "model.add(MaxPooling2D(2, 2))\n",
        "model.add(Conv2D(64, (3, 3), activation='relu'))\n",
        "model.add(MaxPooling2D(2, 2))\n",
        "model.add(Conv2D(64, (3, 3), activation='relu'))\n",
        "model.add(MaxPooling2D(2, 2))\n",
        "model.add(Flatten())\n",
        "model.add(Dense(128, activation='relu'))\n",
        "model.add(Dense(10, activation='softmax'))\n",
        "\n"
      ]
    },
    {
      "cell_type": "markdown",
      "source": [
        "**Question 4:** Compile and train the model. Choose an appropriate loss function, optimizer, and print out the accuracy of the model."
      ],
      "metadata": {
        "id": "Z37o5R4zyrRB"
      }
    },
    {
      "cell_type": "code",
      "source": [
        "# Compile the model\n",
        "model.compile(optimizer= 'adam', loss= 'categorical_crossentropy', metrics=['accuracy'])\n",
        "\n",
        "# Train the model\n",
        "history = model.fit(X_train, y_train, validation_data= (X_test, y_test), batch_size= 128, epochs= 5)\n"
      ],
      "metadata": {
        "id": "EsBT-jSlyo35",
        "colab": {
          "base_uri": "https://localhost:8080/"
        },
        "outputId": "89be76c8-b996-4ed3-92a2-8812f25843a8"
      },
      "execution_count": 6,
      "outputs": [
        {
          "output_type": "stream",
          "name": "stdout",
          "text": [
            "Epoch 1/5\n",
            "469/469 [==============================] - 63s 131ms/step - loss: 0.3448 - accuracy: 0.8930 - val_loss: 0.0967 - val_accuracy: 0.9693\n",
            "Epoch 2/5\n",
            "469/469 [==============================] - 49s 105ms/step - loss: 0.1001 - accuracy: 0.9692 - val_loss: 0.0831 - val_accuracy: 0.9760\n",
            "Epoch 3/5\n",
            "469/469 [==============================] - 51s 108ms/step - loss: 0.0718 - accuracy: 0.9781 - val_loss: 0.0578 - val_accuracy: 0.9830\n",
            "Epoch 4/5\n",
            "469/469 [==============================] - 55s 117ms/step - loss: 0.0560 - accuracy: 0.9830 - val_loss: 0.0556 - val_accuracy: 0.9824\n",
            "Epoch 5/5\n",
            "469/469 [==============================] - 50s 107ms/step - loss: 0.0483 - accuracy: 0.9848 - val_loss: 0.0496 - val_accuracy: 0.9864\n"
          ]
        }
      ]
    },
    {
      "cell_type": "markdown",
      "metadata": {
        "id": "LaYsKjVSu9KF"
      },
      "source": [
        "## Evaluate the Model's performance"
      ]
    },
    {
      "cell_type": "markdown",
      "source": [
        "**Question 5:** Plot the training and validation accuracy to better understand the performance of the model."
      ],
      "metadata": {
        "id": "57_7ykVky_j_"
      }
    },
    {
      "cell_type": "code",
      "execution_count": 7,
      "metadata": {
        "id": "-KqzKudQu8rv",
        "colab": {
          "base_uri": "https://localhost:8080/",
          "height": 507
        },
        "outputId": "895f30ef-f96b-465a-8f07-9737d793aef8"
      },
      "outputs": [
        {
          "output_type": "stream",
          "name": "stdout",
          "text": [
            "313/313 [==============================] - 3s 11ms/step - loss: 0.0496 - accuracy: 0.9864\n",
            "Test Accuracy: 0.9864000082015991\n"
          ]
        },
        {
          "output_type": "display_data",
          "data": {
            "text/plain": [
              "<Figure size 640x480 with 1 Axes>"
            ],
            "image/png": "[encoded data removed]"
          },
          "metadata": {}
        }
      ],
      "source": [
        "# Evaluate the model on the test set\n",
        "test_loss, test_accuracy = model.evaluate(X_test, y_test)\n",
        "print(\"Test Accuracy:\", test_accuracy)\n",
        "\n",
        "# Plot the training and validation accuracy over epochs\n",
        "acc = history.history['accuracy']\n",
        "val_acc = history.history['val_accuracy']\n",
        "\n",
        "plt.plot(acc, 'b', label='Training accuracy')\n",
        "plt.plot(val_acc, 'r', label='Validation accuracy')\n",
        "plt.title('Training & Validation Accuracy')\n",
        "\n",
        "plt.xlabel('Epoch')\n",
        "plt.ylabel('Accuracy')\n",
        "plt.legend()\n",
        "plt.show()\n"
      ]
    }
  ],
  "metadata": {
    "colab": {
      "provenance": [],
      "toc_visible": true
    },
    "kernelspec": {
      "display_name": "Python 3",
      "name": "python3"
    },
    "language_info": {
      "name": "python"
    }
  },
  "nbformat": 4,
  "nbformat_minor": 0
}